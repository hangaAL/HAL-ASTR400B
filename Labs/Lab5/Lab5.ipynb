{
 "cells": [
  {
   "cell_type": "markdown",
   "metadata": {},
   "source": [
    "# Lab 5 ASTR 400B \n"
   ]
  },
  {
   "cell_type": "code",
   "execution_count": 1,
   "metadata": {},
   "outputs": [],
   "source": [
    "# Import Modules \n",
    "import numpy as np\n",
    "import matplotlib.pyplot as plt\n",
    "import matplotlib\n",
    "from astropy import constants as const # import astropy constants\n",
    "import astropy.units as u"
   ]
  },
  {
   "cell_type": "markdown",
   "metadata": {},
   "source": [
    "# Part A :  Mass to Light Ratios \n",
    "\n",
    "Wolf et al. 2010 \n",
    "\n",
    "$M(<R_{half}) = \\frac {4}{G}\\sigma^2 R_e$\n",
    "\n",
    "Where $R_{half}$ = 3D half mass radius \n",
    "and $R_e$ is the 2D half mass radius of stars (observed)\n",
    "\n",
    "Determine which of the following two systems are galaxies:\n",
    "\n",
    "The system 47 Tuc is observed with:  $\\sigma = 17.3$ km/s, $R_e = 0.5$ pc, $L_v \\sim 10^5 L_\\odot$ \n",
    "\n",
    "The system Willman I is observed with: $\\sigma = 4.3$ km/s, $R_e = 25$ pc, $L_v = 10^3 L_\\odot$"
   ]
  },
  {
   "cell_type": "code",
   "execution_count": 2,
   "metadata": {},
   "outputs": [],
   "source": [
    "# Gravitational Constant in the desired units\n",
    "# kpc^3/Gyr^2/Msun\n",
    "Grav = const.G.to(u.kpc**3/u.Gyr**2/u.Msun)\n",
    "#Note: Willman I has the much higher Re, expect it to be the galaxy"
   ]
  },
  {
   "cell_type": "code",
   "execution_count": 3,
   "metadata": {
    "collapsed": true
   },
   "outputs": [],
   "source": [
    "def WolfMass(sigma, re):\n",
    "    \"\"\" Function that defines the Wolf mass estimator from Wolf+ 2010\n",
    "    PARAMETERS\n",
    "    ----------\n",
    "        sigma: astropy quantity\n",
    "            1D line of sight velocity dispersion in km/s\n",
    "        re: astropy quantity\n",
    "            Effective radius, 2D radius enclosing half the\n",
    "            stellar mass in kpc\n",
    "    OUTPUTS\n",
    "    -------\n",
    "        mWolf: Returns the dynamical mass within the \n",
    "            half light radius in Msun\n",
    "    \"\"\"\n",
    "    \n",
    "    sigmaKpcGyr = sigma.to(u.kpc/u.Gyr) # velocity dispersion units\n",
    "    \n",
    "    mWolf = 4/Grav*sigmaKpcGyr**2*re # Wolf mass estimator\n",
    "    \n",
    "    return mWolf"
   ]
  },
  {
   "cell_type": "code",
   "execution_count": 4,
   "metadata": {
    "collapsed": true
   },
   "outputs": [],
   "source": [
    "# 47 Tuc\n",
    "\n",
    "lumTuc = 1e5*u.Lsun # luminosity\n",
    "sigmaTuc = 17.3*u.km/u.s # 1D LOS velocity dispersion\n",
    "reTuc = 0.5/1000*u.kpc # effective radius (2D half light radius)"
   ]
  },
  {
   "cell_type": "code",
   "execution_count": 5,
   "metadata": {},
   "outputs": [
    {
     "name": "stdout",
     "output_type": "stream",
     "text": [
      "1.39e+05 solMass\n"
     ]
    }
   ],
   "source": [
    "# Dynamical mass for 47 Tuc\n",
    "\n",
    "massTuc = WolfMass(sigmaTuc, reTuc)\n",
    "print(f'{massTuc:.2e}')"
   ]
  },
  {
   "cell_type": "code",
   "execution_count": 6,
   "metadata": {},
   "outputs": [
    {
     "name": "stdout",
     "output_type": "stream",
     "text": [
      "Mass to Light Ratio of 47 Tuc: 1.4 solMass / solLum\n"
     ]
    }
   ],
   "source": [
    "# M/L ~ 1\n",
    "print(f'Mass to Light Ratio of 47 Tuc: {np.around(massTuc/lumTuc, 1)}')"
   ]
  },
  {
   "cell_type": "code",
   "execution_count": 7,
   "metadata": {},
   "outputs": [],
   "source": [
    "# Willman I parameters\n",
    "\n",
    "lumWI = 1e3*u.Lsun # luminosity\n",
    "sigmaWI = 4.3*u.km/u.s # 1D LOS velocity dispersion\n",
    "reWI = 25/1000*u.kpc # effective radius"
   ]
  },
  {
   "cell_type": "code",
   "execution_count": 8,
   "metadata": {},
   "outputs": [
    {
     "name": "stdout",
     "output_type": "stream",
     "text": [
      "4.30e+05 solMass\n"
     ]
    }
   ],
   "source": [
    "# Dynamical mass of Willman I\n",
    "massWI = WolfMass(sigmaWI, reWI)\n",
    "print(f'{massWI:.2e}')"
   ]
  },
  {
   "cell_type": "code",
   "execution_count": 9,
   "metadata": {},
   "outputs": [
    {
     "name": "stdout",
     "output_type": "stream",
     "text": [
      "Mass to Light Ratio of Willman I: 429.9 solMass / solLum\n"
     ]
    }
   ],
   "source": [
    "# M/L ~ 1\n",
    "print(f'Mass to Light Ratio of Willman I: {np.around(massWI/lumWI, 1)}')"
   ]
  },
  {
   "cell_type": "markdown",
   "metadata": {},
   "source": [
    "# Part B :  Stellar to Halo Mass Relation\n",
    "\n",
    "Following the work of [Moster et al. 2013 (MNRAS, 428, 3121)](https://ui.adsabs.harvard.edu/abs/2013MNRAS.428.3121M/abstract)\n",
    "\n",
    "\n",
    "`Equation 2:`                  $ \\frac{m}{M} = 2N \\left [ \\left ( \\frac{M}{M_1} \\right)^{-\\beta} + \\left (\\frac{M}{M_1} \\right)^{\\gamma} \\right]$ \n",
    "\n",
    "$m$ = stellar mass, $M$ = halo mass\n",
    "\n",
    "`Equation 11:`        log $M_1(z) = M_{10} + M_{11} \\frac{z}{z+1} $ \n",
    "\n",
    "`Equation 12:`        $N(z) = N_{10} + N_{11} \\frac{z}{z+1} $\n",
    "\n",
    "`Equation 13:`         $\\beta(z) = \\beta_{10} + \\beta_{11} \\frac{z}{z+1} $\n",
    "\n",
    "`Equation 14:`         $\\gamma(z) = \\gamma_{10} + \\gamma_{11} \\frac{z}{z+1} $"
   ]
  },
  {
   "cell_type": "markdown",
   "metadata": {},
   "source": [
    "# Q1 \n",
    "\n",
    "Modify the class below by adding a function called `StellarMass` that uses the `SHMratio` function and returns the stellar mass."
   ]
  },
  {
   "cell_type": "code",
   "execution_count": 10,
   "metadata": {
    "collapsed": true
   },
   "outputs": [],
   "source": [
    "class AbundanceMatching:\n",
    "    \"\"\" Class to define the abundance matching relations from \n",
    "    Moster et al. 2013, which relate the stellar mass of a galaxy\n",
    "    to the expected dark matter halo mass, according to \n",
    "    Lambda Cold Dark Matter (LCDM) theory \"\"\"\n",
    "    \n",
    "    \n",
    "    def __init__(self, mhalo, z):\n",
    "        \"\"\" Initialize the class\n",
    "        \n",
    "        PARAMETERS\n",
    "        ----------\n",
    "            mhalo: float\n",
    "                Halo mass in Msun\n",
    "            z: float\n",
    "                redshift\n",
    "        \"\"\"\n",
    "        \n",
    "        #initializing the parameters:\n",
    "        self.mhalo = mhalo # Halo Mass in Msun\n",
    "        self.z = z  # Redshift\n",
    "        \n",
    "        \n",
    "    def logM1(self):\n",
    "        \"\"\"eq. 11 of Moster 2013\n",
    "        OUTPUT: \n",
    "            M1: float \n",
    "                characteristic mass in log(Msun)\n",
    "        \"\"\"\n",
    "        M10      = 11.59\n",
    "        M11      = 1.195 \n",
    "        return M10 + M11*(self.z/(1+self.z))  \n",
    "    \n",
    "    def N(self):\n",
    "        \"\"\"eq. 12 of Moster 2013\n",
    "        OUTPUT: \n",
    "            Normalization for eq. 2\n",
    "        \"\"\"\n",
    "        N10      = 0.0351\n",
    "        N11      = -0.0247\n",
    "    \n",
    "        return N10 + N11*(self.z/(1+self.z))\n",
    "    \n",
    "    \n",
    "    def Beta(self):\n",
    "        \"\"\"eq. 13 of Moster 2013\n",
    "        OUTPUT:  power of the low mass slope\"\"\"\n",
    "        beta10      = 1.376\n",
    "        beta11      = -0.826\n",
    "    \n",
    "        return beta10 + beta11*(self.z/(1+self.z))\n",
    "    \n",
    "    def Gamma(self):\n",
    "        \"\"\"eq. 14 of Moster 2013\n",
    "        OUTPUT: power of the high mass slope \"\"\"\n",
    "        gamma10      = 0.608\n",
    "        gamma11      = 0.329\n",
    "    \n",
    "        return gamma10 + gamma11*(self.z/(1+self.z))\n",
    "    \n",
    "    \n",
    "    def SHMratio(self):\n",
    "        \"\"\" \n",
    "        eq. 2 of Moster + 2013\n",
    "        The ratio of the stellar mass to the halo mass\n",
    "        \n",
    "        OUTPUT: \n",
    "            SHMratio float\n",
    "                Stellar mass to halo mass ratio\n",
    "        \"\"\"\n",
    "        M1 = 10**self.logM1() # Converting characteristic mass \n",
    "        # to Msun from Log(Msun)\n",
    "        \n",
    "        A = (self.mhalo/M1)**(-self.Beta())  # Low mass end\n",
    "        \n",
    "        B = (self.mhalo/M1)**(self.Gamma())   # High mass end\n",
    "        \n",
    "        Norm = 2*self.N() # Normalization\n",
    "    \n",
    "        SHMratio = Norm*(A+B)**(-1)\n",
    "    \n",
    "        return SHMratio \n",
    "    \n",
    "    # Q1: add a function to the class that takes the SHM ratio and returns \n",
    "    # The stellar mass \n",
    "    def StellarMass(self):\n",
    "        '''\n",
    "        Method to compute the stellar mass using Eq. 2\n",
    "        of Moster+2013 (stellar/halo mass ratio)\n",
    "\n",
    "        Returns:\n",
    "            starMass (float): stellar mass in Msun\n",
    "        '''\n",
    "\n",
    "        starMass = self.mhalo*self.SHMratio()\n",
    "\n",
    "        return starMass \n"
   ]
  },
  {
   "cell_type": "markdown",
   "metadata": {},
   "source": [
    "# Part C : Plot the Moster Relation\n",
    "\n",
    "Reproduce the below figure from Moster + 2013 \n",
    "Plot this for z=0, 0.5, 1, 2\n",
    "\n",
    "![mos](./MosterFig.png)"
   ]
  },
  {
   "cell_type": "code",
   "execution_count": 11,
   "metadata": {
    "collapsed": true
   },
   "outputs": [],
   "source": [
    "mh = np.logspace(10,15,1000) # Logarithmically spaced array"
   ]
  },
  {
   "cell_type": "code",
   "execution_count": 12,
   "metadata": {
    "collapsed": true
   },
   "outputs": [],
   "source": [
    "# Define Instances of the Class for each redshift\n",
    "MosterZ0 = AbundanceMatching(mh,0) # redshift z=0\n",
    "MosterZ05 = AbundanceMatching(mh, 0.5) # z=0.5\n",
    "MosterZ1 = AbundanceMatching(mh, 1) # z=1\n",
    "MosterZ2 = AbundanceMatching(mh, 2) # z=2"
   ]
  },
  {
   "cell_type": "code",
   "execution_count": 13,
   "metadata": {
    "collapsed": true
   },
   "outputs": [
    {
     "data": {
      "image/png": "[encoded data removed]",
      "text/plain": [
       "<Figure size 1000x800 with 1 Axes>"
      ]
     },
     "metadata": {},
     "output_type": "display_data"
    }
   ],
   "source": [
    "\n",
    "fig,ax = plt.subplots(figsize=(10,8))\n",
    "\n",
    "\n",
    "#adjust tick label font size\n",
    "label_size = 22\n",
    "matplotlib.rcParams['xtick.labelsize'] = label_size \n",
    "matplotlib.rcParams['ytick.labelsize'] = label_size\n",
    "\n",
    "# Plot z = 0\n",
    "plt.plot(np.log10(mh), np.log10(MosterZ0.StellarMass()),\n",
    "         linewidth = 5, label='z=0', color='k')\n",
    "\n",
    "# Continue plotting for the other redshifts here\n",
    "# z=0.5\n",
    "plt.plot(np.log10(mh), np.log10(MosterZ05.StellarMass()),\n",
    "         linewidth = 3, label='z=0.5', linestyle='--', color='r')\n",
    "plt.plot(np.log10(mh), np.log10(MosterZ1.StellarMass()),\n",
    "         linewidth = 3, label='z=1', linestyle=':', color='m')\n",
    "plt.plot(np.log10(mh), np.log10(MosterZ2.StellarMass()),\n",
    "         linewidth = 3, label='z=2', linestyle='-.', color='b')\n",
    "\n",
    "\n",
    "# Axes labels \n",
    "plt.xlabel('log (M$_h$/M$_\\odot$)',fontsize=22) \n",
    "plt.ylabel('log (m$_\\star$/M$_\\odot$)', fontsize=22)\n",
    "\n",
    "# Legend\n",
    "plt.legend(loc='lower right',fontsize='x-large')\n",
    "\n",
    "# save the file \n",
    "plt.savefig('AbundanceMatching_Lab5.png')"
   ]
  },
  {
   "cell_type": "markdown",
   "metadata": {},
   "source": [
    "# Part D\n",
    "\n",
    "# Q1\n",
    "\n",
    "In studies that have modeled the Magellanic Clouds prior to 2010, the LMC is traditioanlly modeled with a halo (dark matter) mass of order $3 \\times 10^{10}$M$_\\odot$.  \n",
    "\n",
    "## A) \n",
    "According to $\\Lambda$CDM theory, what should be the stellar mass of the LMC halo be at z=0?  \n",
    "\n",
    "## B) \n",
    "How does this stellar mass compare to the actual observed stellar mass of the LMC at the present day of ~$3 \\times 10^9$ M$_\\odot$ ? \n",
    "\n",
    "## C) \n",
    "What is the $\\Lambda$CDM expected halo mass for the LMC (using Abundance Matching)? "
   ]
  },
  {
   "cell_type": "code",
   "execution_count": 14,
   "metadata": {
    "collapsed": true
   },
   "outputs": [],
   "source": [
    "# traditional LMC halo mass\n",
    "haloLMC1 = 3e10\n",
    "\n",
    "# make abundance matching object for LMC\n",
    "LMC1 = AbundanceMatching(haloLMC1, 0)"
   ]
  },
  {
   "cell_type": "code",
   "execution_count": null,
   "metadata": {},
   "outputs": [
    {
     "name": "stdout",
     "output_type": "stream",
     "text": [
      "0.061582173613615045\n",
      "2.0527391204538348\n"
     ]
    }
   ],
   "source": [
    "# find stellar mass of LMC\n",
    "LMC1star = LMC1.StellarMass()\n",
    "print(LMC1star/1e9)\n",
    "# comparison to observed stellar mass: 3e9 Msun\n",
    "print(LMC1star/3e9 * 100)"
   ]
  },
  {
   "cell_type": "code",
   "execution_count": 16,
   "metadata": {},
   "outputs": [],
   "source": [
    "# let's say we know LMC Mstar = 3e9 Msun\n",
    "# what's the expected halo mass?\n",
    "\n",
    "# start with a guess\n",
    "haloLMC2 = 5e10\n",
    "LMC2 = AbundanceMatching(haloLMC2, 0)"
   ]
  },
  {
   "cell_type": "code",
   "execution_count": 17,
   "metadata": {},
   "outputs": [
    {
     "name": "stdout",
     "output_type": "stream",
     "text": [
      "0.205\n"
     ]
    }
   ],
   "source": [
    "# get stellar mass for halo\n",
    "LMC2star = LMC2.StellarMass()\n",
    "print(np.round(LMC2star/1e9, 3))"
   ]
  },
  {
   "cell_type": "code",
   "execution_count": 19,
   "metadata": {},
   "outputs": [
    {
     "name": "stdout",
     "output_type": "stream",
     "text": [
      "3.009\n"
     ]
    }
   ],
   "source": [
    "# try different guesses to get closer\n",
    "haloLMC3 = 16.5e10\n",
    "LMC3 = AbundanceMatching(haloLMC3, 0)\n",
    "LMC3star = LMC3.StellarMass()\n",
    "print(np.round(LMC3star/1e9, 3))"
   ]
  },
  {
   "cell_type": "markdown",
   "metadata": {},
   "source": [
    "# Q2\n",
    "\n",
    "## A) \n",
    "What is the expected stellar mass of an L* galaxy at z=0? \n",
    "\n",
    "## B)\n",
    "What is the expected stellar mass of an L* galaxy at z = 2? "
   ]
  },
  {
   "cell_type": "code",
   "execution_count": 20,
   "metadata": {
    "collapsed": true
   },
   "outputs": [
    {
     "name": "stdout",
     "output_type": "stream",
     "text": [
      "logM1, z=0: 11.59\n"
     ]
    }
   ],
   "source": [
    "# find characteristic halo mass at z=0\n",
    "\n",
    "M1halo_z0 = MosterZ0.logM1()\n",
    "print(f'logM1, z=0: {M1halo_z0}')"
   ]
  },
  {
   "cell_type": "code",
   "execution_count": 21,
   "metadata": {},
   "outputs": [],
   "source": [
    "# create new instance of class with halo mass = logM1 at z=0\n",
    "M1z0 = AbundanceMatching(10**M1halo_z0,0)"
   ]
  },
  {
   "cell_type": "code",
   "execution_count": null,
   "metadata": {},
   "outputs": [
    {
     "name": "stdout",
     "output_type": "stream",
     "text": [
      "Stellar mass of L* gal at z=0: 1.3655484589299245 (1e10 Msun)\n"
     ]
    }
   ],
   "source": [
    "# determine stellar mass of that halo\n",
    "M1star_z0 = M1z0.StellarMass()\n",
    "print(f'Stellar mass of L* gal at z=0: {M1star_z0/1e10} (1e10 Msun)')\n",
    "# this is how to find the knee of the functions at different z's"
   ]
  },
  {
   "cell_type": "code",
   "execution_count": 23,
   "metadata": {},
   "outputs": [
    {
     "name": "stdout",
     "output_type": "stream",
     "text": [
      "logM1, z=2: 12.386666666666667\n"
     ]
    }
   ],
   "source": [
    "# characteristic halo mass at z=2\n",
    "M1halo_z2 = MosterZ2.logM1()\n",
    "print(f'logM1, z=2: {M1halo_z2}')"
   ]
  },
  {
   "cell_type": "code",
   "execution_count": 26,
   "metadata": {},
   "outputs": [],
   "source": [
    "# create new instance of class with halo mass = logM1 at z=2\n",
    "M1z2 = AbundanceMatching(10**M1halo_z2, 2)"
   ]
  },
  {
   "cell_type": "code",
   "execution_count": 27,
   "metadata": {},
   "outputs": [
    {
     "name": "stdout",
     "output_type": "stream",
     "text": [
      "Stellar mass of L* gal at z=2: 4.538969033454143 (1e10 Msun)\n"
     ]
    }
   ],
   "source": [
    "# determine stellar mass of that halo\n",
    "M1star_z2 = M1z2.StellarMass()\n",
    "print(f'Stellar mass of L* gal at z=2: {M1star_z2/1e10} (1e10 Msun)')"
   ]
  }
 ],
 "metadata": {
  "kernelspec": {
   "display_name": "stenv",
   "language": "python",
   "name": "python3"
  },
  "language_info": {
   "codemirror_mode": {
    "name": "ipython",
    "version": 3
   },
   "file_extension": ".py",
   "mimetype": "text/x-python",
   "name": "python",
   "nbconvert_exporter": "python",
   "pygments_lexer": "ipython3",
   "version": "3.9.18"
  }
 },
 "nbformat": 4,
 "nbformat_minor": 2
}
