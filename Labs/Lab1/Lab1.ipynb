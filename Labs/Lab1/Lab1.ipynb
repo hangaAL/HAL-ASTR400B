{
 "cells": [
  {
   "cell_type": "markdown",
   "metadata": {},
   "source": [
    "# In Class Lab 1\n",
    "\n",
    "### Due by midnight, thursday in your github repository 'Labs/Lab1' folder\n"
   ]
  },
  {
   "cell_type": "code",
   "execution_count": 1,
   "metadata": {},
   "outputs": [],
   "source": [
    "# Import Modules \n",
    "import numpy as np # import numpy\n",
    "import astropy.units as u # import astropy units\n",
    "from astropy import constants as const # import astropy constants"
   ]
  },
  {
   "cell_type": "markdown",
   "metadata": {},
   "source": [
    "### Astropy Units:  https://docs.astropy.org/en/stable/units/index.html"
   ]
  },
  {
   "cell_type": "markdown",
   "metadata": {},
   "source": [
    "\n",
    "## Part A:  The Local Standard of Rest\n",
    "Proper motion of Sgr A* from Reid & Brunthaler 2004\n",
    "$\\mu = 6.379$ mas/yr \n",
    "\n",
    "Peculiar motion of the sun, $v_\\odot$ = 12.24 km/s  (Schonrich 2010)\n",
    "\n",
    "\n",
    "$v_{tan} = 4.74 \\frac{\\mu}{\\rm mas/yr} \\frac{R_o}{\\rm kpc} = V_{LSR} + v_\\odot$\n",
    "\n",
    "\n",
    "### a)\n",
    "\n",
    "Create a function called VLSR to compute the local standard of res (V$_{LSR}$).\n",
    "\n",
    "The function should take as input: the solar radius (R$_o$), the proper motion (mu)\n",
    "and the peculiar motion of the sun in the $v_\\odot$ direction.\n",
    "\n",
    "Compute V$_{LSR}$ using three different values R$_o$: \n",
    "1. Water Maser Distance for the Sun :  R$_o$ = 8.34 kpc   (Reid 2014 ApJ 783) \n",
    "2. GRAVITY Collaboration Distance for the Sun:  R$_o$ = 8.178 kpc   (Abuter+2019 A&A 625)\n",
    "3. Value for Distance to Sun listed in Sparke & Gallagher : R$_o$ = 7.9 kpc \n"
   ]
  },
  {
   "cell_type": "code",
   "execution_count": 2,
   "metadata": {},
   "outputs": [],
   "source": [
    "def VLSR(Ro, mu=6.379, vpec=12.24*u.km/u.s):\n",
    "    '''\n",
    "    Calculates the velocity at the local standard of rest.\n",
    "    VLSR = 4.74*mu*Ro - vpec\n",
    "    -----\n",
    "    Parameters: \n",
    "        Ro: Solar radius in kpc (astropy units).\n",
    "        mu: Proper motion of Sgr A* in mas/yr. \n",
    "            Default from Reid & Brunthaler 2004.\n",
    "        vpec: peculiar motion of the sun in the v_sun direction in km/s (astropy units).\n",
    "              Default from Schonrich 2010.\n",
    "    -----\n",
    "    Outputs: \n",
    "        V_LSR: The local standard of rest in km/s (astropy units)\n",
    "    '''\n",
    "    V_LSR = 4.74*mu*(Ro/u.kpc)*u.km/u.s - vpec\n",
    "    return V_LSR"
   ]
  },
  {
   "cell_type": "code",
   "execution_count": 3,
   "metadata": {},
   "outputs": [],
   "source": [
    "#Different values of distance from galctic center\n",
    "Ro_reid = 8.34*u.kpc #Water maser (Reid 2014 ApJ 783)\n",
    "Ro_abuter = 8.178*u.kpc #GRAVITY collaboration (Abuter+2019 A&A 625)\n",
    "Ro_sparke = 7.9*u.kpc #Sparke & Gallagher textbook"
   ]
  },
  {
   "cell_type": "code",
   "execution_count": 4,
   "metadata": {},
   "outputs": [
    {
     "name": "stdout",
     "output_type": "stream",
     "text": [
      "239.9320764 km / s\n"
     ]
    }
   ],
   "source": [
    "#Calculate VLSR using Reid 2014\n",
    "VLSR_reid = VLSR(Ro_reid)\n",
    "print(VLSR_reid)"
   ]
  },
  {
   "cell_type": "code",
   "execution_count": 7,
   "metadata": {},
   "outputs": [
    {
     "name": "stdout",
     "output_type": "stream",
     "text": [
      "235.0 km / s\n"
     ]
    }
   ],
   "source": [
    "#Calculate VLSR using Abuter+2019\n",
    "VLSR_abuter = VLSR(Ro_abuter)\n",
    "print(np.round(VLSR_abuter))"
   ]
  },
  {
   "cell_type": "code",
   "execution_count": 6,
   "metadata": {},
   "outputs": [
    {
     "name": "stdout",
     "output_type": "stream",
     "text": [
      "226.628034 km / s\n"
     ]
    }
   ],
   "source": [
    "#Calculate VLSR using Sparke & Gallagher\n",
    "VLSR_sparke = VLSR(Ro_sparke) \n",
    "print(VLSR_sparke)"
   ]
  },
  {
   "cell_type": "markdown",
   "metadata": {},
   "source": [
    "### b)\n",
    "\n",
    "compute the orbital period of the sun in Gyr using R$_o$ from the GRAVITY Collaboration (assume circular orbit)\n",
    "\n",
    "Note that 1 km/s $\\sim$ 1kpc/Gyr"
   ]
  },
  {
   "cell_type": "code",
   "execution_count": 8,
   "metadata": {},
   "outputs": [],
   "source": [
    "def TorbSun(Ro, vcirc):\n",
    "    '''\n",
    "    Computes the orbital period of the sun:\n",
    "    T = 2 pi R / v\n",
    "\n",
    "    Paramaters:\n",
    "        Ro (astropy quantity): distance to the Galactic Center from\n",
    "            the sun (kpc)\n",
    "        vcirc (astropy quantity): velocity of the sun in the \"v\" \n",
    "            direction (km/s)\n",
    "    \n",
    "    Returns:\n",
    "        T (astropy quantity): orbital period (Gyr)\n",
    "    '''\n",
    "\n",
    "    v_kpcGyr = vcirc.to(u.kpc/u.Gyr) #converting vcirc to kpc/Gyr\n",
    "    T = 2*np.pi*Ro/v_kpcGyr #calculating orbital period\n",
    "\n",
    "    return T\n"
   ]
  },
  {
   "cell_type": "code",
   "execution_count": 9,
   "metadata": {},
   "outputs": [],
   "source": [
    "v_sunpec = 12.24*u.km/u.s #peculiar motion of sun"
   ]
  },
  {
   "cell_type": "code",
   "execution_count": 10,
   "metadata": {},
   "outputs": [],
   "source": [
    "vsun = VLSR_abuter + v_sunpec #total motion of the sun in the \"v\" direction"
   ]
  },
  {
   "cell_type": "code",
   "execution_count": 11,
   "metadata": {},
   "outputs": [
    {
     "name": "stdout",
     "output_type": "stream",
     "text": [
      "0.20318680562272234 Gyr\n"
     ]
    }
   ],
   "source": [
    "#orbital period of the sun\n",
    "T_abuter = TorbSun(Ro_abuter, vsun)\n",
    "print(T_abuter)"
   ]
  },
  {
   "cell_type": "markdown",
   "metadata": {},
   "source": [
    "### c)\n",
    "\n",
    "Compute the number of rotations about the GC over the age of the universe (13.8 Gyr)"
   ]
  },
  {
   "cell_type": "code",
   "execution_count": 13,
   "metadata": {},
   "outputs": [
    {
     "name": "stdout",
     "output_type": "stream",
     "text": [
      "67.91779593023313\n"
     ]
    }
   ],
   "source": [
    "age_univ = 13.8*u.Gyr #age of the universe in Gyr\n",
    "print(age_univ/T_abuter) #number of rotations about the GC"
   ]
  },
  {
   "cell_type": "markdown",
   "metadata": {},
   "source": [
    "## Part B  Dark Matter Density Profiles\n",
    "\n",
    "### a)\n",
    "Try out Fitting Rotation Curves \n",
    "[here](http://wittman.physics.ucdavis.edu/Animations/RotationCurve/GalacticRotation.html)\n",
    "\n",
    "\n",
    "### b)\n",
    "\n",
    "\n",
    "In the Isothermal Sphere model, what is the mass enclosed within the solar radius (R$_o$) in units of M$_\\odot$? \n",
    "\n",
    "Recall that for the Isothermal sphere :\n",
    "$\\rho(r) = \\frac{V_{LSR}^2}{4\\pi G r^2}$\n",
    "\n",
    "Where $G$ = 4.4985e-6 kpc$^3$/Gyr$^2$/M$_\\odot$, r is in kpc and $V_{LSR}$ is in km/s\n",
    "\n",
    "What about at 260 kpc (in units of  M$_\\odot$) ? "
   ]
  },
  {
   "cell_type": "code",
   "execution_count": 14,
   "metadata": {},
   "outputs": [
    {
     "name": "stdout",
     "output_type": "stream",
     "text": [
      "  Name   = Gravitational constant\n",
      "  Value  = 6.6743e-11\n",
      "  Uncertainty  = 1.5e-15\n",
      "  Unit  = m3 / (kg s2)\n",
      "  Reference = CODATA 2018\n"
     ]
    }
   ],
   "source": [
    "print(const.G)"
   ]
  },
  {
   "cell_type": "code",
   "execution_count": 15,
   "metadata": {},
   "outputs": [
    {
     "name": "stdout",
     "output_type": "stream",
     "text": [
      "4.498502151469554e-06 kpc3 / (solMass Gyr2)\n"
     ]
    }
   ],
   "source": [
    "Grav = const.G.to(u.kpc**3/u.Gyr**2/u.Msun) #convert G to useful units\n",
    "print(Grav)"
   ]
  },
  {
   "cell_type": "code",
   "execution_count": 16,
   "metadata": {},
   "outputs": [],
   "source": [
    "#Density profile is rho = VLSR^2/(4pi*G*R^2)\n",
    "#Mass (r) = integrate rho dV\n",
    "#         = integrate rho 4pi*r^2*dr\n",
    "#         = integrate rho VLSR^2/(4pi*G*R^2)  4pi*r^2*dr\n",
    "#         = integrate VLSR^2/G dr (flat rotation curve for Isothermal Sphere)\n",
    "#         = VLSR^2/G r\n",
    "\n",
    "def massIso(r, VLSR):\n",
    "    '''\n",
    "    Computes the dark matter mass enclosed within a given\n",
    "    distance r assuming an Isothermal Sphere model:\n",
    "    M(r) = VLSR^2/G * r\n",
    "\n",
    "    Parameters:\n",
    "        r (astropy quantity): distance from the Galactic\n",
    "            Center (kpc)\n",
    "        VLSR (astropy quantity): velocity of the Local\n",
    "            Standard of Rest (km/s)\n",
    "    \n",
    "    Returns:\n",
    "        M (astropy quantity): mass enclosed within r \n",
    "            (Msun)\n",
    "    '''\n",
    "\n",
    "    VLSR_kpcGyr = VLSR.to(u.kpc/u.Gyr) #converting to kpc/Gyr\n",
    "    M = (VLSR_kpcGyr**2/Grav)*r #Isothermal Sphere Mass Profile\n",
    "\n",
    "    return M"
   ]
  },
  {
   "cell_type": "code",
   "execution_count": 20,
   "metadata": {},
   "outputs": [
    {
     "name": "stdout",
     "output_type": "stream",
     "text": [
      "1.05e+11 solMass\n"
     ]
    }
   ],
   "source": [
    "#compute mass enclosed within Ro (GRAVITY collab)\n",
    "M_IsoSolar = massIso(Ro_abuter, VLSR_abuter)\n",
    "print(f'{M_IsoSolar:.2e}')"
   ]
  },
  {
   "cell_type": "code",
   "execution_count": 22,
   "metadata": {},
   "outputs": [
    {
     "name": "stdout",
     "output_type": "stream",
     "text": [
      "3.34e+12 solMass\n"
     ]
    }
   ],
   "source": [
    "#compute mass enclosed within 260 kpc\n",
    "M_IsoSolar = massIso(260*u.kpc, VLSR_abuter)\n",
    "print(f'{M_IsoSolar:.2e}')"
   ]
  },
  {
   "cell_type": "markdown",
   "metadata": {},
   "source": [
    "## c) \n",
    "\n",
    "The Leo I satellite is one of the fastest moving satellite galaxies we know. \n",
    "\n",
    "\n",
    "It is moving with 3D velocity of magnitude: Vtot = 196 km/s at a distance of 260 kpc (Sohn 2013 ApJ 768)\n",
    "\n",
    "If we assume that Leo I is moving at the escape speed:\n",
    "\n",
    "$v_{esc}^2 = 2|\\Phi| = 2 \\int G \\frac{\\rho(r)}{r}dV $ \n",
    "\n",
    "and assuming the Milky Way is well modeled by a Hernquist Sphere with a scale radius of $a$= 30 kpc, what is the minimum mass of the Milky Way (in units of M$_\\odot$) ?  \n",
    "\n",
    "How does this compare to estimates of the mass assuming the Isothermal Sphere model at 260 kpc (from your answer above)"
   ]
  },
  {
   "cell_type": "code",
   "execution_count": 33,
   "metadata": {},
   "outputs": [],
   "source": [
    "#Potential for Hernquist Sphere\n",
    "#   Phi = -GM/(r+a)\n",
    "#Escape speed:\n",
    "#   vesc^2 = 2GM/(r+a)\n",
    "#rearrange for M:\n",
    "#   M = vesc^2/(2G/(r+a))\n",
    "\n",
    "def massHernVesc(vesc, r, a=30*u.kpc):\n",
    "    '''\n",
    "    Determines the total dark matter mass needed given an\n",
    "    escape speed, assuming a Hernquist profile:\n",
    "    M = vesc^2/(2G/(r+a))\n",
    "\n",
    "    Parameters:\n",
    "        vesc (astropy quantity): escape speed (or speed of \n",
    "            satellite) (km/s)\n",
    "        r (astropy quantity): distance from Galactic Center\n",
    "            (kpc)\n",
    "        a (astropy quantity): Hernquist scale length (kpc)\n",
    "            Default is 30 kpc\n",
    "    \n",
    "    Returns:\n",
    "        M (astropy quantity): mass within r (Msun)\n",
    "    '''\n",
    "\n",
    "    vsec_kpcGyr = vesc.to(u.kpc/u.Gyr) #converting to kpc/Gyr\n",
    "    M = vsec_kpcGyr**2/2/Grav*(r+a) # mass contained in r\n",
    "\n",
    "    return M"
   ]
  },
  {
   "cell_type": "code",
   "execution_count": 34,
   "metadata": {},
   "outputs": [],
   "source": [
    "v_leo = 196*u.km/u.s #speed if Leo I, Sohn et al.\n",
    "r = 260*u.kpc #distance from GC"
   ]
  },
  {
   "cell_type": "code",
   "execution_count": 35,
   "metadata": {},
   "outputs": [
    {
     "name": "stdout",
     "output_type": "stream",
     "text": [
      "1.30e+12 solMass\n"
     ]
    }
   ],
   "source": [
    "M_LeoI = massHernVesc(v_leo, r)\n",
    "print(f'{M_LeoI:.2e}')"
   ]
  },
  {
   "cell_type": "code",
   "execution_count": null,
   "metadata": {},
   "outputs": [],
   "source": []
  }
 ],
 "metadata": {
  "kernelspec": {
   "display_name": "stenv",
   "language": "python",
   "name": "python3"
  },
  "language_info": {
   "codemirror_mode": {
    "name": "ipython",
    "version": 3
   },
   "file_extension": ".py",
   "mimetype": "text/x-python",
   "name": "python",
   "nbconvert_exporter": "python",
   "pygments_lexer": "ipython3",
   "version": "3.9.18"
  }
 },
 "nbformat": 4,
 "nbformat_minor": 2
}
