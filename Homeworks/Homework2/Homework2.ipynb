{
 "cells": [
  {
   "cell_type": "code",
   "execution_count": 1,
   "metadata": {},
   "outputs": [],
   "source": [
    "import numpy as np\n",
    "import astropy.units as u\n",
    "from ReadFile import Read\n",
    "from ParticleProperties import ParticleInfo"
   ]
  },
  {
   "cell_type": "code",
   "execution_count": 2,
   "metadata": {},
   "outputs": [],
   "source": [
    "# Testing Read()\n",
    "filename = 'MW_000.txt' # The file we will be reading from\n",
    "time_test, ntot_test, data_test = Read(filename)"
   ]
  },
  {
   "cell_type": "code",
   "execution_count": 3,
   "metadata": {},
   "outputs": [
    {
     "name": "stdout",
     "output_type": "stream",
     "text": [
      "0.0 Myr\n",
      "135000.0\n"
     ]
    }
   ],
   "source": [
    "print(time_test) # time matches the file\n",
    "print(ntot_test) # total number of particles matches the file"
   ]
  },
  {
   "cell_type": "code",
   "execution_count": 4,
   "metadata": {},
   "outputs": [
    {
     "name": "stdout",
     "output_type": "stream",
     "text": [
      "[('type', '<f8'), ('m', '<f8'), ('x', '<f8'), ('y', '<f8'), ('z', '<f8'), ('vx', '<f8'), ('vy', '<f8'), ('vz', '<f8')]\n",
      "(1., 0.00394985, -2.51725, 19.1588, 52.8528, 0.134962, 116.109, -85.3822)\n",
      "[  -2.51725  -286.601      -0.505945 -169.208      26.1592    115.935\n",
      " -340.719      -5.75122   -13.2277   -294.037    -104.663   ]\n"
     ]
    }
   ],
   "source": [
    "print(data_test.dtype) # column names match the file\n",
    "print(data_test[0]) # first row matches the file \n",
    "print(data_test['x'][:11]) # first 10 elements of 'x' column match file\n",
    "\n",
    "# Read() works! :D"
   ]
  },
  {
   "cell_type": "code",
   "execution_count": 5,
   "metadata": {},
   "outputs": [],
   "source": [
    "# Proving my codes work!\n",
    "ptype = 'Disk' # the type of particle we want\n",
    "pnum = 100 # which particle of that type we want"
   ]
  },
  {
   "cell_type": "code",
   "execution_count": 6,
   "metadata": {},
   "outputs": [
    {
     "name": "stdout",
     "output_type": "stream",
     "text": [
      "The particle has a 3D distance of 4.245 kpc,\n",
      "a 3D velocity of 312.135 km / s, \n",
      "and a mass of 1.000e+06 solMass.\n"
     ]
    }
   ],
   "source": [
    "dist_3D, vel_3D, mass = ParticleInfo(filename, ptype, pnum) # get particle distance, velocity, and mass\n",
    "print(f'The particle has a 3D distance of {dist_3D},\\na 3D velocity of {vel_3D}, \\nand a mass of {mass:.3e}.')"
   ]
  },
  {
   "cell_type": "code",
   "execution_count": null,
   "metadata": {},
   "outputs": [
    {
     "name": "stdout",
     "output_type": "stream",
     "text": [
      "The 3D distance of the particle is 13845.338 lyr.\n"
     ]
    }
   ],
   "source": [
    "dist_3D_lyr = np.around(dist_3D.to(u.lyr), 3) # convert distance to lightyears to 3 decimal places\n",
    "print(f'The 3D distance of the particle is {dist_3D_lyr}.')"
   ]
  }
 ],
 "metadata": {
  "kernelspec": {
   "display_name": "stenv",
   "language": "python",
   "name": "python3"
  },
  "language_info": {
   "codemirror_mode": {
    "name": "ipython",
    "version": 3
   },
   "file_extension": ".py",
   "mimetype": "text/x-python",
   "name": "python",
   "nbconvert_exporter": "python",
   "pygments_lexer": "ipython3",
   "version": "3.9.18"
  }
 },
 "nbformat": 4,
 "nbformat_minor": 2
}
