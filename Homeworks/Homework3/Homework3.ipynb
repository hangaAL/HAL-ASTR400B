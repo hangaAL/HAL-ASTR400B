{
 "cells": [
  {
   "cell_type": "code",
   "execution_count": 1,
   "metadata": {},
   "outputs": [],
   "source": [
    "import numpy as np\n",
    "import pandas as pd\n",
    "import astropy.units as u\n",
    "from GalaxyMass import ComponentMass"
   ]
  },
  {
   "cell_type": "code",
   "execution_count": 13,
   "metadata": {},
   "outputs": [],
   "source": [
    "galaxies = ['MW', 'M31', 'M33'] # set up the galaxy names to iterate over\n",
    "components = ['Halo', 'Disk', 'Bulge'] # set up the component to iterate over\n",
    "masses = np.zeros((4,4))*u.Msun # make array to store the masses in\n",
    "# columns are: halo, disk, bulge, total\n",
    "# rows are: MW, M31, M33, Local Group\n",
    "barfracs = np.zeros((4,1)) # make array to store the baryon fractions in\n",
    "# same galaxy order as above"
   ]
  },
  {
   "cell_type": "code",
   "execution_count": 14,
   "metadata": {},
   "outputs": [],
   "source": [
    "# calculate masses and baryon fractions for all 3 galaxies\n",
    "for i in range(0,3): # iterate over the galaxies\n",
    "\n",
    "    galaxy = galaxies[i] # this is the galaxy we're working with\n",
    "    # make the path to the file with the galaxy data we want \n",
    "    fpath = '/home/hal9k/HAL-ASTR400B/Homeworks/Homework3/'+galaxy+'_000.txt'\n",
    "\n",
    "    for j in range(0,3): # iterate over the components of this galaxy\n",
    "\n",
    "        component = components[j] # this is the component we're working with\n",
    "        # calculate the component mass and assign it to the correct spot in the array\n",
    "        masses[i,j] = ComponentMass(fpath, component)\n",
    "\n",
    "    # calculate the total mass of this galaxy\n",
    "    mtot = np.sum(masses[i,:3]) # sum component masses\n",
    "    masses[i,3] = mtot # assign it to the correct spot in the array\n",
    "\n",
    "    # calculate the baryon fraction of this galaxy\n",
    "    barfrac = (masses[i,1]+masses[i,2])/masses[i,3] # stellar mass (disk + bulge) / total mass\n",
    "    # assign it to the correct spot after rounding to 3 decimal points\n",
    "    barfracs[i] = np.around(barfrac, 3)\n"
   ]
  },
  {
   "cell_type": "code",
   "execution_count": 15,
   "metadata": {},
   "outputs": [],
   "source": [
    "# calculate masses and baryon fraction for local group\n",
    "for i in range(0,4): # iterate over the mass types (including total)\n",
    "    mass_lg = np.sum(masses[:3,i]) # sum the masses of the 3 galaxies\n",
    "    masses[3,i] = mass_lg # assign it to the correct spot in the array\n",
    "\n",
    "barfrac_lg = (masses[3,1]+masses[3,2])/masses[3,3] # calculate the baryon fraction\n",
    "# assign it to the correct spot after rounding to 3 decimal points\n",
    "barfracs[3] = np.around(barfrac_lg, 3)"
   ]
  },
  {
   "cell_type": "code",
   "execution_count": 16,
   "metadata": {},
   "outputs": [
    {
     "name": "stdout",
     "output_type": "stream",
     "text": [
      "[[1.975 0.075 0.01  2.06 ]\n",
      " [1.921 0.12  0.019 2.06 ]\n",
      " [0.187 0.009 0.    0.196]\n",
      " [4.083 0.204 0.029 4.316]] solMass\n",
      "[[0.041]\n",
      " [0.067]\n",
      " [0.046]\n",
      " [0.054]]\n"
     ]
    }
   ],
   "source": [
    "# to check if everything makes sense - it does!\n",
    "print(masses)\n",
    "print(barfracs)"
   ]
  },
  {
   "cell_type": "code",
   "execution_count": 19,
   "metadata": {},
   "outputs": [],
   "source": [
    "# put everything into a dictionary first\n",
    "masses_dict = {'Galaxy Name':['Milky Way', 'M31', 'M33', 'Local Group'],\n",
    "               'Halo Mass (10^12 M_sun)':masses[:,0].value,\n",
    "               'Disk Mass (10^12 M_sun)':masses[:,1].value,\n",
    "               'Bulge Mass (10^12 M_sun)':masses[:,2].value,\n",
    "               'Total Mass (10^12 M_sun)':masses[:,3].value,\n",
    "               'f_bar':barfracs.flatten()}\n",
    "# and then turn it into a pandas dataframe to make it easier to read\n",
    "masses_df = pd.DataFrame(masses_dict)"
   ]
  },
  {
   "cell_type": "code",
   "execution_count": 21,
   "metadata": {},
   "outputs": [
    {
     "data": {
      "text/html": [
       "<div>\n",
       "<style scoped>\n",
       "    .dataframe tbody tr th:only-of-type {\n",
       "        vertical-align: middle;\n",
       "    }\n",
       "\n",
       "    .dataframe tbody tr th {\n",
       "        vertical-align: top;\n",
       "    }\n",
       "\n",
       "    .dataframe thead th {\n",
       "        text-align: right;\n",
       "    }\n",
       "</style>\n",
       "<table border=\"1\" class=\"dataframe\">\n",
       "  <thead>\n",
       "    <tr style=\"text-align: right;\">\n",
       "      <th></th>\n",
       "      <th>Galaxy Name</th>\n",
       "      <th>Halo Mass (10^12 M_sun)</th>\n",
       "      <th>Disk Mass (10^12 M_sun)</th>\n",
       "      <th>Bulge Mass (10^12 M_sun)</th>\n",
       "      <th>Total Mass (10^12 M_sun)</th>\n",
       "      <th>f_bar</th>\n",
       "    </tr>\n",
       "  </thead>\n",
       "  <tbody>\n",
       "    <tr>\n",
       "      <th>0</th>\n",
       "      <td>Milky Way</td>\n",
       "      <td>1.975</td>\n",
       "      <td>0.075</td>\n",
       "      <td>0.010</td>\n",
       "      <td>2.060</td>\n",
       "      <td>0.041</td>\n",
       "    </tr>\n",
       "    <tr>\n",
       "      <th>1</th>\n",
       "      <td>M31</td>\n",
       "      <td>1.921</td>\n",
       "      <td>0.120</td>\n",
       "      <td>0.019</td>\n",
       "      <td>2.060</td>\n",
       "      <td>0.067</td>\n",
       "    </tr>\n",
       "    <tr>\n",
       "      <th>2</th>\n",
       "      <td>M33</td>\n",
       "      <td>0.187</td>\n",
       "      <td>0.009</td>\n",
       "      <td>0.000</td>\n",
       "      <td>0.196</td>\n",
       "      <td>0.046</td>\n",
       "    </tr>\n",
       "    <tr>\n",
       "      <th>3</th>\n",
       "      <td>Local Group</td>\n",
       "      <td>4.083</td>\n",
       "      <td>0.204</td>\n",
       "      <td>0.029</td>\n",
       "      <td>4.316</td>\n",
       "      <td>0.054</td>\n",
       "    </tr>\n",
       "  </tbody>\n",
       "</table>\n",
       "</div>"
      ],
      "text/plain": [
       "   Galaxy Name  Halo Mass (10^12 M_sun)  Disk Mass (10^12 M_sun)  \\\n",
       "0    Milky Way                    1.975                    0.075   \n",
       "1          M31                    1.921                    0.120   \n",
       "2          M33                    0.187                    0.009   \n",
       "3  Local Group                    4.083                    0.204   \n",
       "\n",
       "   Bulge Mass (10^12 M_sun)  Total Mass (10^12 M_sun)  f_bar  \n",
       "0                     0.010                     2.060  0.041  \n",
       "1                     0.019                     2.060  0.067  \n",
       "2                     0.000                     0.196  0.046  \n",
       "3                     0.029                     4.316  0.054  "
      ]
     },
     "execution_count": 21,
     "metadata": {},
     "output_type": "execute_result"
    }
   ],
   "source": [
    "# look at the pretty dataframe as I put all this into a LaTeX table\n",
    "masses_df"
   ]
  },
  {
   "cell_type": "code",
   "execution_count": null,
   "metadata": {},
   "outputs": [],
   "source": []
  }
 ],
 "metadata": {
  "kernelspec": {
   "display_name": "stenv",
   "language": "python",
   "name": "python3"
  },
  "language_info": {
   "codemirror_mode": {
    "name": "ipython",
    "version": 3
   },
   "file_extension": ".py",
   "mimetype": "text/x-python",
   "name": "python",
   "nbconvert_exporter": "python",
   "pygments_lexer": "ipython3",
   "version": "3.9.18"
  }
 },
 "nbformat": 4,
 "nbformat_minor": 2
}
