{
 "cells": [
  {
   "cell_type": "code",
   "execution_count": 1,
   "metadata": {},
   "outputs": [],
   "source": [
    "# imports\n",
    "import numpy as np\n",
    "import pandas as pd\n",
    "import matplotlib.pyplot as plt\n",
    "import astropy.units as u\n",
    "from CenterOfMass import CenterOfMass"
   ]
  },
  {
   "cell_type": "markdown",
   "metadata": {},
   "source": [
    "## Question 1"
   ]
  },
  {
   "cell_type": "code",
   "execution_count": 2,
   "metadata": {},
   "outputs": [],
   "source": [
    "# define filepaths to galaxy snapshot files\n",
    "# because I don't want to make new copies of all 3 files\n",
    "MW_path = r'../Homework3/MW_000.txt'\n",
    "M31_path = r'../Homework3/M31_000.txt'\n",
    "M33_path = r'../Homework3/M33_000.txt'\n",
    "\n",
    "# put them in a list to make Q1 easier\n",
    "fpaths = [MW_path, M31_path, M33_path]"
   ]
  },
  {
   "cell_type": "code",
   "execution_count": 3,
   "metadata": {},
   "outputs": [],
   "source": [
    "n = len(fpaths) # get the length of the file list to use later\n",
    "\n",
    "COM_pos_arr = np.zeros((n,3))*u.kpc # will contain the position vectors\n",
    "COM_vel_arr = np.zeros((n,3))*u.km/u.s # will contain the velocity vectors\n",
    "\n",
    "# iterating through the files to get all of the COM information\n",
    "for i in range(n): \n",
    "\n",
    "    #get the right filepath\n",
    "    fpath = fpaths[i]\n",
    "    # use only disk particles for determining COM\n",
    "    ptype = 2.\n",
    "    # initialize COM class\n",
    "    COM = CenterOfMass(fpath, ptype) \n",
    "\n",
    "    # use tolerance of 0.1 kpc for finding COM position\n",
    "    # which is already the default, so no input required :)\n",
    "    # anyway find the COM position\n",
    "    COM_pos = COM.COM_P()\n",
    "    # and save it to the position array\n",
    "    COM_pos_arr[i] = COM_pos\n",
    "\n",
    "    # find the COM velocity\n",
    "    COM_vel = COM.COM_V(COM_pos[0], COM_pos[1], COM_pos[2])\n",
    "    # and save it to the velocity array\n",
    "    COM_vel_arr[i] = COM_vel"
   ]
  },
  {
   "cell_type": "code",
   "execution_count": 4,
   "metadata": {},
   "outputs": [
    {
     "data": {
      "text/html": [
       "<div>\n",
       "<style scoped>\n",
       "    .dataframe tbody tr th:only-of-type {\n",
       "        vertical-align: middle;\n",
       "    }\n",
       "\n",
       "    .dataframe tbody tr th {\n",
       "        vertical-align: top;\n",
       "    }\n",
       "\n",
       "    .dataframe thead th {\n",
       "        text-align: right;\n",
       "    }\n",
       "</style>\n",
       "<table border=\"1\" class=\"dataframe\">\n",
       "  <thead>\n",
       "    <tr style=\"text-align: right;\">\n",
       "      <th></th>\n",
       "      <th>Galaxy</th>\n",
       "      <th>x (kpc)</th>\n",
       "      <th>y (kpc)</th>\n",
       "      <th>z (kpc)</th>\n",
       "      <th>vx (km/s)</th>\n",
       "      <th>vy (km/s)</th>\n",
       "      <th>vz (km/s)</th>\n",
       "    </tr>\n",
       "  </thead>\n",
       "  <tbody>\n",
       "    <tr>\n",
       "      <th>0</th>\n",
       "      <td>Milky Way</td>\n",
       "      <td>-2.07</td>\n",
       "      <td>2.95</td>\n",
       "      <td>-1.45</td>\n",
       "      <td>0.94</td>\n",
       "      <td>6.32</td>\n",
       "      <td>-1.35</td>\n",
       "    </tr>\n",
       "    <tr>\n",
       "      <th>1</th>\n",
       "      <td>M31</td>\n",
       "      <td>-377.66</td>\n",
       "      <td>611.43</td>\n",
       "      <td>-284.64</td>\n",
       "      <td>72.85</td>\n",
       "      <td>-72.14</td>\n",
       "      <td>49.00</td>\n",
       "    </tr>\n",
       "    <tr>\n",
       "      <th>2</th>\n",
       "      <td>M33</td>\n",
       "      <td>-476.22</td>\n",
       "      <td>491.44</td>\n",
       "      <td>-412.40</td>\n",
       "      <td>44.42</td>\n",
       "      <td>101.78</td>\n",
       "      <td>142.23</td>\n",
       "    </tr>\n",
       "  </tbody>\n",
       "</table>\n",
       "</div>"
      ],
      "text/plain": [
       "      Galaxy  x (kpc)  y (kpc)  z (kpc)  vx (km/s)  vy (km/s)  vz (km/s)\n",
       "0  Milky Way    -2.07     2.95    -1.45       0.94       6.32      -1.35\n",
       "1        M31  -377.66   611.43  -284.64      72.85     -72.14      49.00\n",
       "2        M33  -476.22   491.44  -412.40      44.42     101.78     142.23"
      ]
     },
     "execution_count": 4,
     "metadata": {},
     "output_type": "execute_result"
    }
   ],
   "source": [
    "# put everything into a dictionary\n",
    "COM_dict = {'Galaxy':['Milky Way', 'M31', 'M33'],\n",
    "            'x (kpc)': COM_pos_arr[:,0],\n",
    "            'y (kpc)': COM_pos_arr[:,1],\n",
    "            'z (kpc)': COM_pos_arr[:,2],\n",
    "            'vx (km/s)': COM_vel_arr[:,0],\n",
    "            'vy (km/s)': COM_vel_arr[:,1],\n",
    "            'vz (km/s)': COM_vel_arr[:,2]}\n",
    "\n",
    "# and then a dataframe to make it easier to parse visually\n",
    "COM_df = pd.DataFrame(COM_dict)\n",
    "COM_df"
   ]
  },
  {
   "cell_type": "code",
   "execution_count": 5,
   "metadata": {},
   "outputs": [
    {
     "data": {
      "image/png": "[encoded data removed]",
      "text/plain": [
       "<Figure size 736x552 with 2 Axes>"
      ]
     },
     "metadata": {},
     "output_type": "display_data"
    }
   ],
   "source": [
    "# I decided to plot it so I could see what was happening \n",
    "# in 2D, granted. One plot for the x-z plane and one for the y-z plane\n",
    "\n",
    "# I prefer a serif font on my plots ¯\\_(ツ)_/¯\n",
    "plt.rcParams['mathtext.fontset'] = 'stix'\n",
    "plt.rcParams['font.family'] = 'STIXGeneral'\n",
    "plt.rcParams['figure.dpi'] = 115 # increase the resolution slightly\n",
    "\n",
    "fig, ax = plt.subplots(1,2, sharey=True) # make a fig and axes to plot on\n",
    "\n",
    "# Milky Way\n",
    "\n",
    "# x-z plane\n",
    "ax[0].arrow(COM_df['x (kpc)'][0], COM_df['z (kpc)'][0],\n",
    "         COM_df['vx (km/s)'][0],  COM_df['vz (km/s)'][0],\n",
    "         head_width=10, color='k') # velocity\n",
    "ax[0].scatter(COM_df['x (kpc)'][0], COM_df['z (kpc)'][0], \n",
    "           c='b', marker='*') # position\n",
    "ax[0].annotate('Milky Way', (COM_df['x (kpc)'][0]-200, \n",
    "                          COM_df['z (kpc)'][0]),\n",
    "            size=12) # label it with text to make the plot look less empty lol\n",
    "\n",
    "# y-z plane\n",
    "ax[1].arrow(COM_df['y (kpc)'][0], COM_df['z (kpc)'][0],\n",
    "         COM_df['vy (km/s)'][0],  COM_df['vz (km/s)'][0],\n",
    "         head_width=10, color='k') # velocity\n",
    "ax[1].scatter(COM_df['y (kpc)'][0], COM_df['z (kpc)'][0], \n",
    "           c='b', marker='*') # position\n",
    "ax[1].annotate('Milky Way', (COM_df['y (kpc)'][0]+40, \n",
    "                          COM_df['z (kpc)'][0]),\n",
    "            size=12) # label it with text \n",
    "\n",
    "# repeat for the other two galaxies\n",
    "\n",
    "# M31\n",
    "\n",
    "# x-z plane\n",
    "ax[0].arrow(COM_df['x (kpc)'][1], COM_df['z (kpc)'][1],\n",
    "         COM_df['vx (km/s)'][1],  COM_df['vz (km/s)'][1],\n",
    "         head_width=10, color='k')\n",
    "ax[0].scatter(COM_df['x (kpc)'][1], COM_df['z (kpc)'][1], \n",
    "           c='m', marker='^')\n",
    "ax[0].annotate('M31', (COM_df['x (kpc)'][1]+40, \n",
    "                    COM_df['z (kpc)'][1]),\n",
    "            size=12)\n",
    "\n",
    "# y-z plane\n",
    "ax[1].arrow(COM_df['y (kpc)'][1], COM_df['z (kpc)'][1],\n",
    "         COM_df['vy (km/s)'][1],  COM_df['vz (km/s)'][1],\n",
    "         head_width=10, color='k')\n",
    "ax[1].scatter(COM_df['y (kpc)'][1], COM_df['z (kpc)'][1], \n",
    "           c='m', marker='^')\n",
    "ax[1].annotate('M31', (COM_df['y (kpc)'][1]-130, \n",
    "                    COM_df['z (kpc)'][1]),\n",
    "            size=12)\n",
    "\n",
    "# M33\n",
    "\n",
    "# x-z plane\n",
    "ax[0].arrow(COM_df['x (kpc)'][2], COM_df['z (kpc)'][2],\n",
    "         COM_df['vx (km/s)'][2],  COM_df['vz (km/s)'][2],\n",
    "         head_width=10, color='k')\n",
    "ax[0].scatter(COM_df['x (kpc)'][2], COM_df['z (kpc)'][2], \n",
    "           c='r', marker='o')\n",
    "ax[0].annotate('M33', (COM_df['x (kpc)'][2]+30, \n",
    "                    COM_df['z (kpc)'][2]),\n",
    "            size=12)\n",
    "\n",
    "# y-z plane\n",
    "ax[1].arrow(COM_df['y (kpc)'][2], COM_df['z (kpc)'][2],\n",
    "         COM_df['vy (km/s)'][2],  COM_df['vz (km/s)'][2],\n",
    "         head_width=10, color='k')\n",
    "ax[1].scatter(COM_df['y (kpc)'][2], COM_df['z (kpc)'][2], \n",
    "           c='r', marker='o')\n",
    "ax[1].annotate('M33', (COM_df['y (kpc)'][2]+30, \n",
    "                    COM_df['z (kpc)'][2]),\n",
    "            size=12)\n",
    "\n",
    "# making the plot look nicer\n",
    "\n",
    "# x-z plane\n",
    "ax[0].tick_params(labelsize=12, length=5)\n",
    "ax[0].set_xlabel('X', size=15)\n",
    "ax[0].set_ylabel('Z', size=15)\n",
    "\n",
    "# y-z plane\n",
    "ax[1].tick_params(labelsize=12, length=5)\n",
    "ax[1].set_xlabel('Y', size=15)\n",
    "\n",
    "# put the two plots next to each other \n",
    "fig.subplots_adjust(wspace=0)"
   ]
  },
  {
   "cell_type": "markdown",
   "metadata": {},
   "source": [
    "## Question 2"
   ]
  },
  {
   "cell_type": "code",
   "execution_count": null,
   "metadata": {},
   "outputs": [
    {
     "name": "stdout",
     "output_type": "stream",
     "text": [
      "The Milky Way and M31 are 769.098 kpc apart and have a velocity difference of 117.738 km / s.\n"
     ]
    }
   ],
   "source": [
    "sep_vec = COM_pos_arr[0] - COM_pos_arr[1] # get the separation vector\n",
    "separation = np.around(np.sqrt(np.sum(sep_vec**2)), 3) # compute its magnitude\n",
    "\n",
    "dvel_vec = COM_vel_arr[0] - COM_vel_arr[1] # get the velocity difference vector\n",
    "dvelocity = np.around(np.sqrt(np.sum(dvel_vec**2)), 3) # compute its magnitude\n",
    "\n",
    "print(f'The Milky Way and M31 are {separation} apart and have a velocity difference of {dvelocity}.') \n",
    "# numbers make sense!"
   ]
  },
  {
   "cell_type": "markdown",
   "metadata": {},
   "source": [
    "## Question 3"
   ]
  },
  {
   "cell_type": "code",
   "execution_count": 7,
   "metadata": {},
   "outputs": [
    {
     "name": "stdout",
     "output_type": "stream",
     "text": [
      "M31 and M33 are 201.083 kpc apart and have a velocity difference of 199.37 km / s.\n"
     ]
    }
   ],
   "source": [
    "sep_vec = COM_pos_arr[1] - COM_pos_arr[2] # get the separation vector\n",
    "separation = np.around(np.sqrt(np.sum(sep_vec**2)), 3) # compute its magnitude\n",
    "\n",
    "dvel_vec = COM_vel_arr[1] - COM_vel_arr[2] # get the velocity difference vector\n",
    "dvelocity = np.around(np.sqrt(np.sum(dvel_vec**2)), 3) # compute its magnitude\n",
    "\n",
    "print(f'M31 and M33 are {separation} apart and have a velocity difference of {dvelocity}.')"
   ]
  },
  {
   "cell_type": "markdown",
   "metadata": {},
   "source": [
    "## Question 4\n",
    "\n",
    "The iterative process for determining the COM is important because once the Milky Way and M31 begin interacting, for particles that are further out it becomes difficult to determine which galaxy they \"belong\" to; this iterative method allows us to focus in on the particles that are most gravitationally bound together and thus influence the COM the most."
   ]
  }
 ],
 "metadata": {
  "kernelspec": {
   "display_name": "stenv",
   "language": "python",
   "name": "python3"
  },
  "language_info": {
   "codemirror_mode": {
    "name": "ipython",
    "version": 3
   },
   "file_extension": ".py",
   "mimetype": "text/x-python",
   "name": "python",
   "nbconvert_exporter": "python",
   "pygments_lexer": "ipython3",
   "version": "3.9.18"
  }
 },
 "nbformat": 4,
 "nbformat_minor": 2
}
